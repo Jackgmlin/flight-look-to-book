{
 "cells": [
  {
   "cell_type": "code",
   "execution_count": 1,
   "metadata": {},
   "outputs": [],
   "source": [
    "import pandas as pd"
   ]
  },
  {
   "cell_type": "code",
   "execution_count": 2,
   "metadata": {},
   "outputs": [],
   "source": [
    "from sklearn.model_selection import train_test_split"
   ]
  },
  {
   "cell_type": "code",
   "execution_count": 3,
   "metadata": {},
   "outputs": [],
   "source": [
    "sb = pd.read_csv('res.csv.small', header=0, sep=',')"
   ]
  },
  {
   "cell_type": "code",
   "execution_count": 4,
   "metadata": {},
   "outputs": [
    {
     "ename": "IndentationError",
     "evalue": "unexpected indent (<ipython-input-4-55631d4d64b3>, line 3)",
     "output_type": "error",
     "traceback": [
      "\u001b[0;36m  File \u001b[0;32m\"<ipython-input-4-55631d4d64b3>\"\u001b[0;36m, line \u001b[0;32m3\u001b[0m\n\u001b[0;31m    usecols=['OfficeID','Country','Origin','Destination','RoundTrip','Seg1Date','Seg2Date',\u001b[0m\n\u001b[0m    ^\u001b[0m\n\u001b[0;31mIndentationError\u001b[0m\u001b[0;31m:\u001b[0m unexpected indent\n"
     ]
    }
   ],
   "source": [
    "dataType = {'IsPublishedForNeg':object,'IsFromInternet':object,'IsFromVista':object,'TerminalID':object,'InternetOffice':object}\n",
    "%time sb = pd.read_csv('res.csv', header=0, sep=',', dtype=dataType,\n",
    "                usecols=['OfficeID','Country','Origin','Destination','RoundTrip','Seg1Date','Seg2Date',\n",
    "                        'From','IsPublishedForNeg','IsFromInternet','IsFromVista','TerminalID','InternetOffice','IsBooked'])"
   ]
  },
  {
   "cell_type": "code",
   "execution_count": null,
   "metadata": {},
   "outputs": [],
   "source": [
    "# Assigning features and label variables\n",
    "s_officeID=sb['OfficeID'].tolist()\n",
    "s_country=sb['Country'].tolist()\n",
    "s_origin=sb['Origin'].tolist()\n",
    "s_destination=sb['Destination'].tolist()\n",
    "s_roundTrip=sb['RoundTrip'].tolist()\n",
    "s_seg1_date=sb['Seg1Date'].tolist()\n",
    "s_seg2_date=sb['Seg2Date'].tolist()\n",
    "s_from=sb['From'].tolist()\n",
    "s_is_published_for_neg=sb['IsPublishedForNeg'].tolist()\n",
    "s_is_from_internet=sb['IsFromInternet'].tolist()\n",
    "s_is_from_vista=sb['IsFromVista'].tolist()\n",
    "s_terminal_id=sb['TerminalID'].tolist()\n",
    "s_internet_office=sb['InternetOffice'].tolist()"
   ]
  },
  {
   "cell_type": "code",
   "execution_count": null,
   "metadata": {},
   "outputs": [],
   "source": [
    "labels = sb['IsBooked'].tolist()"
   ]
  },
  {
   "cell_type": "code",
   "execution_count": null,
   "metadata": {},
   "outputs": [],
   "source": [
    "len(s_officeID)"
   ]
  },
  {
   "cell_type": "code",
   "execution_count": null,
   "metadata": {},
   "outputs": [],
   "source": [
    "from sklearn import preprocessing\n",
    "le = preprocessing.LabelEncoder()"
   ]
  },
  {
   "cell_type": "code",
   "execution_count": null,
   "metadata": {},
   "outputs": [],
   "source": [
    "# Converting string labels into numbers.\n",
    "s_country_encoded=le.fit_transform(s_country)\n",
    "s_origin_encoded=le.fit_transform(s_origin)\n",
    "s_destination_encoded=le.fit_transform(s_destination)"
   ]
  },
  {
   "cell_type": "code",
   "execution_count": null,
   "metadata": {},
   "outputs": [],
   "source": [
    "features=zip(s_origin_encoded,s_destination_encoded)"
   ]
  },
  {
   "cell_type": "code",
   "execution_count": null,
   "metadata": {},
   "outputs": [],
   "source": [
    "features=list(features)"
   ]
  },
  {
   "cell_type": "code",
   "execution_count": null,
   "metadata": {},
   "outputs": [],
   "source": [
    "%time train_X, test_X, train_Y, test_Y = train_test_split(features, labels)"
   ]
  },
  {
   "cell_type": "code",
   "execution_count": null,
   "metadata": {},
   "outputs": [],
   "source": [
    "# Import Gaussian Naive Bayes model\n",
    "from sklearn.naive_bayes import GaussianNB\n",
    "\n",
    "# Create a Gaussian Classifier\n",
    "model = GaussianNB()\n",
    "\n",
    "# Train the model using the training sets\n",
    "model.fit(train_X,train_Y)"
   ]
  },
  {
   "cell_type": "code",
   "execution_count": null,
   "metadata": {},
   "outputs": [],
   "source": [
    "#Predict Output\n",
    "predicted= model.predict(test_X)"
   ]
  }
 ],
 "metadata": {
  "kernelspec": {
   "display_name": "Python 3",
   "language": "python",
   "name": "python3"
  },
  "language_info": {
   "codemirror_mode": {
    "name": "ipython",
    "version": 3
   },
   "file_extension": ".py",
   "mimetype": "text/x-python",
   "name": "python",
   "nbconvert_exporter": "python",
   "pygments_lexer": "ipython3",
   "version": "3.6.8"
  }
 },
 "nbformat": 4,
 "nbformat_minor": 2
}
